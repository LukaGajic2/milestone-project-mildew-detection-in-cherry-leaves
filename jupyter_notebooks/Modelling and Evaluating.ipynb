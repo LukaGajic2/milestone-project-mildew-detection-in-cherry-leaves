{
 "cells": [
  {
   "cell_type": "markdown",
   "id": "fb19b6c6-7355-4816-a3bf-9af7e2b42c2d",
   "metadata": {},
   "source": [
    "# Modelling and Evaluating Notebook"
   ]
  },
  {
   "cell_type": "markdown",
   "id": "14b3eafd-8897-46c2-96a9-692ba2f47898",
   "metadata": {},
   "source": [
    "### Objectives\n",
    "* Answer second business requirement:\n",
    "  The client is interested in predicting if a cherry leaf is healthy or contains powdery mildew."
   ]
  },
  {
   "cell_type": "markdown",
   "id": "0089df83-18cf-4ee4-8e53-0ab91e1739d2",
   "metadata": {},
   "source": [
    "### Inputs\n",
    "* inputs/cherry_leaves_dataset/cherry-leaves/train\n",
    "* inputs/cherry_leaves_dataset/cherry-leaves/validation\n",
    "* inputs/cherry_leaves_dataset/cherry-leaves/test\n",
    "* image shape embeddings"
   ]
  },
  {
   "cell_type": "markdown",
   "id": "f5dfd1ca-f231-4c41-82ca-d2c5161c86f7",
   "metadata": {},
   "source": [
    "### Outputs\n",
    "* Images distribution plot in train, validation and test set\n",
    "* Image augmentation\n",
    "* Class indices to change prediction inference in labels\n",
    "* ML model creation and training\n",
    "* Saving model\n",
    "* Ploting learning curve for model performance\n",
    "* Model evaluation on pickle file\n",
    "* Prediction on the randome image file"
   ]
  },
  {
   "cell_type": "markdown",
   "id": "45af0b42-4416-40e6-ae9d-157f4c4c580a",
   "metadata": {},
   "source": [
    "### Additional Comments\n",
    "* No additional comments"
   ]
  },
  {
   "cell_type": "markdown",
   "id": "60f828f7-42b9-43e2-aa9b-f5a2b4cd70f9",
   "metadata": {},
   "source": [
    "---"
   ]
  },
  {
   "cell_type": "markdown",
   "id": "fd4b08c9-4bfb-4aae-8fcd-b1a3e3716821",
   "metadata": {},
   "source": [
    "## Import libraries"
   ]
  },
  {
   "cell_type": "code",
   "execution_count": 1,
   "id": "fdb448d3-4032-49e2-a4aa-d31e8735df2a",
   "metadata": {},
   "outputs": [],
   "source": [
    "import os\n",
    "import pandas as pd\n",
    "import numpy as np\n",
    "import matplotlib.pyplot as plt\n",
    "import seaborn as sns\n",
    "from matplotlib.image import imread"
   ]
  },
  {
   "cell_type": "markdown",
   "id": "5e5cbf06-dc1d-4038-b957-cbfdbdada051",
   "metadata": {},
   "source": [
    "---"
   ]
  },
  {
   "cell_type": "markdown",
   "id": "c9908714-1994-471c-ab83-5bc49e44da9f",
   "metadata": {},
   "source": [
    "## Set Working Directory"
   ]
  },
  {
   "cell_type": "code",
   "execution_count": 2,
   "id": "996510e8-4a47-402a-8ac6-ac06c63c36a1",
   "metadata": {},
   "outputs": [],
   "source": [
    "cwd= os.getcwd()"
   ]
  },
  {
   "cell_type": "code",
   "execution_count": 3,
   "id": "cd5b9a4b-aa24-41d1-a6cb-ef54627863f2",
   "metadata": {},
   "outputs": [
    {
     "name": "stdout",
     "output_type": "stream",
     "text": [
      "You set a new current directory\n"
     ]
    }
   ],
   "source": [
    "os.chdir('/workspaces/milestone-project-mildew-detection-in-cherry-leaves')\n",
    "print(\"You set a new current directory\")"
   ]
  },
  {
   "cell_type": "code",
   "execution_count": 4,
   "id": "ccf9b56b-deb7-4af0-b1a8-cc1093b4ba25",
   "metadata": {},
   "outputs": [
    {
     "data": {
      "text/plain": [
       "'/workspaces/milestone-project-mildew-detection-in-cherry-leaves'"
      ]
     },
     "execution_count": 4,
     "metadata": {},
     "output_type": "execute_result"
    }
   ],
   "source": [
    "work_dir = os.getcwd()\n",
    "work_dir"
   ]
  },
  {
   "cell_type": "markdown",
   "id": "55c3926b-6297-4d21-9793-c34095dca04f",
   "metadata": {},
   "source": [
    "## Set Input Directories"
   ]
  },
  {
   "cell_type": "code",
   "execution_count": 5,
   "id": "327731f6-bab0-4684-b88c-793748c2dcca",
   "metadata": {},
   "outputs": [],
   "source": [
    "my_data_dir = 'inputs/cherry_leaves_dataset/cherry-leaves'\n",
    "train_path = my_data_dir + '/train'\n",
    "val_path = my_data_dir + '/validation'\n",
    "test_path = my_data_dir + '/test'"
   ]
  },
  {
   "cell_type": "markdown",
   "id": "00816afe-f19f-4dcc-b4d8-577e6ed0c23d",
   "metadata": {},
   "source": [
    "## Set Output Directories"
   ]
  },
  {
   "cell_type": "code",
   "execution_count": 6,
   "id": "837c441e-0cda-41a8-a9cf-7b5c4d44f10a",
   "metadata": {},
   "outputs": [
    {
     "name": "stdout",
     "output_type": "stream",
     "text": [
      "Old version is already available create a new version.\n"
     ]
    }
   ],
   "source": [
    "version = 'v1'\n",
    "file_path = f'outputs/{version}'\n",
    "\n",
    "if 'outputs' in os.listdir(work_dir) and version in os.listdir(work_dir + '/outputs'):\n",
    "    print('Old version is already available create a new version.')\n",
    "    pass\n",
    "else:\n",
    "    os.makedirs(name=file_path)"
   ]
  },
  {
   "cell_type": "markdown",
   "id": "9eeca807-1c3d-413f-a4fa-131460ddd6fc",
   "metadata": {},
   "source": [
    "## Set Label Names"
   ]
  },
  {
   "cell_type": "code",
   "execution_count": 7,
   "id": "37c4b5ac-3c3a-42f7-87a9-648ccbd9fb56",
   "metadata": {},
   "outputs": [
    {
     "name": "stdout",
     "output_type": "stream",
     "text": [
      "Labels for the images are ['powdery_mildew', 'healthy']\n"
     ]
    }
   ],
   "source": [
    "labels = os.listdir(train_path)\n",
    "print('Labels for the images are', labels)"
   ]
  },
  {
   "cell_type": "markdown",
   "id": "abf14fd8-4804-4dc0-9d88-242de1b8b5f2",
   "metadata": {},
   "source": [
    "## Set Image Shape"
   ]
  },
  {
   "cell_type": "code",
   "execution_count": null,
   "id": "5e966d5d-f121-45c3-91f6-82307499ee95",
   "metadata": {},
   "outputs": [],
   "source": []
  }
 ],
 "metadata": {
  "kernelspec": {
   "display_name": "Python 3 (ipykernel)",
   "language": "python",
   "name": "python3"
  },
  "language_info": {
   "codemirror_mode": {
    "name": "ipython",
    "version": 3
   },
   "file_extension": ".py",
   "mimetype": "text/x-python",
   "name": "python",
   "nbconvert_exporter": "python",
   "pygments_lexer": "ipython3",
   "version": "3.8.12"
  }
 },
 "nbformat": 4,
 "nbformat_minor": 5
}
